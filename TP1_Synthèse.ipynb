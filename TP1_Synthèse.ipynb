{
 "cells": [
  {
   "cell_type": "markdown",
   "metadata": {},
   "source": [
    "# TP Synthèse harmonique\n",
    "\n",
    "Dans ce TP, on va étudier le spectre d'une même note de musique jouée par deux instruments : un piano et une flûte. On étudiera la répartition des harmoniques, et on tentera de re-synthétiser cette note. "
   ]
  },
  {
   "cell_type": "code",
   "execution_count": 1,
   "metadata": {},
   "outputs": [
    {
     "name": "stdout",
     "output_type": "stream",
     "text": [
      "Using matplotlib backend: Qt5Agg\n"
     ]
    }
   ],
   "source": [
    "import numpy as np\n",
    "import soundfile as sf\n",
    "import matplotlib.pyplot as plt\n",
    "%matplotlib auto"
   ]
  },
  {
   "cell_type": "markdown",
   "metadata": {},
   "source": [
    "### Question 1\n",
    "Importer les données de la flute et du piano à l'aide de la fonction soundfile.read() et afficher les signaux en fonction du temps.\n",
    "\n",
    "#### NB : \n",
    "Les vecteurs comportent deux colonnes : le son du piano a été enregistré en *stereo*, c'est-à-dire avec deux micros. Pour le son de la flûte, qui comporte deux colonnes identique, il est probable qu'il ait été enregistré en mono, puis dédoublé afin que les formats soient homogènes (deux colonnes à chaque fois)."
   ]
  },
  {
   "cell_type": "code",
   "execution_count": 2,
   "metadata": {},
   "outputs": [
    {
     "data": {
      "text/plain": [
       "Text(0.5, 0, 'temps [s]')"
      ]
     },
     "execution_count": 2,
     "metadata": {},
     "output_type": "execute_result"
    }
   ],
   "source": []
  },
  {
   "cell_type": "markdown",
   "metadata": {},
   "source": [
    "### Question 2 \n",
    "Calculer et afficher le demi-spectre du signal (jusqu'à la fréquence de Nyquist). Quelles étaient vraisemblablement les fréquences présentes dans le signal continu ? Quelle hypothèse est nécessaire pour pouvoir faire cette interprétation ?"
   ]
  },
  {
   "cell_type": "code",
   "execution_count": 3,
   "metadata": {},
   "outputs": [
    {
     "data": {
      "text/plain": [
       "Text(0.5, 0, 'Fréquence [Hz]')"
      ]
     },
     "execution_count": 3,
     "metadata": {},
     "output_type": "execute_result"
    }
   ],
   "source": []
  },
  {
   "cell_type": "markdown",
   "metadata": {},
   "source": [
    "### Question 3\n",
    "Qu'est-ce qui, a première vue, sépare le spectre de la note jouée par le piano de celle jouée par la flûte ? Quelles autres différences ne sont pas visibles sur le spectre ? "
   ]
  },
  {
   "cell_type": "markdown",
   "metadata": {},
   "source": [
    "### Question 4:  Approximation du spectre\n",
    "\n",
    "Créer un son synthétique ressemblant au son original en ne retenant qu'un petit nombre de pics du spectre."
   ]
  }
 ],
 "metadata": {
  "kernelspec": {
   "display_name": "Python 3 (ipykernel)",
   "language": "python",
   "name": "python3"
  },
  "language_info": {
   "codemirror_mode": {
    "name": "ipython",
    "version": 3
   },
   "file_extension": ".py",
   "mimetype": "text/x-python",
   "name": "python",
   "nbconvert_exporter": "python",
   "pygments_lexer": "ipython3",
   "version": "3.8.13"
  }
 },
 "nbformat": 4,
 "nbformat_minor": 4
}
